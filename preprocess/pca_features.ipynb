{
 "cells": [
  {
   "cell_type": "code",
   "execution_count": 1,
   "metadata": {},
   "outputs": [],
   "source": [
    "import pickle\n",
    "import numpy as np\n",
    "import sys\n",
    "from os.path import join\n",
    "import matplotlib.pyplot as plt\n",
    "from sklearn.decomposition import PCA\n",
    "from sklearn.preprocessing import normalize, MinMaxScaler, StandardScaler\n",
    "np.set_printoptions(suppress=True)"
   ]
  },
  {
   "cell_type": "code",
   "execution_count": 2,
   "metadata": {},
   "outputs": [
    {
     "data": {
      "text/html": [
       "<style>.container { width:80% !important; }</style>"
      ],
      "text/plain": [
       "<IPython.core.display.HTML object>"
      ]
     },
     "metadata": {},
     "output_type": "display_data"
    }
   ],
   "source": [
    "mainPath = \"/mnt/kerem/CBIR\"\n",
    "featuresPath = \"/mnt/kerem/CBIR/features\"\n",
    "dataPath = \"/mnt/kerem/CBIR/data\"\n",
    "\n",
    "from IPython.core.display import display, HTML\n",
    "display(HTML(\"<style>.container { width:80% !important; }</style>\"))"
   ]
  },
  {
   "cell_type": "code",
   "execution_count": 3,
   "metadata": {},
   "outputs": [],
   "source": [
    "datasets = [\"oxford\", \"cifar10\"] #,\"caltech\"]\n",
    "methods = [\"hog\", \"gabor\", \"colorHistogram\", \"lbp\", \"haar\", \"sobel\"]#, \"vgg\"]"
   ]
  },
  {
   "cell_type": "code",
   "execution_count": 4,
   "metadata": {},
   "outputs": [],
   "source": [
    "d = datasets[1]\n",
    "\n",
    "trainAllFeatures = []\n",
    "for m in methods:\n",
    "    with open(join(featuresPath, d+\"_\"+m+\"_train.pickle\"), 'rb') as handle:\n",
    "        train = pickle.load(handle)\n",
    "    trainAllFeatures.append(train)\n",
    "train = np.concatenate(trainAllFeatures, axis=1)"
   ]
  },
  {
   "cell_type": "code",
   "execution_count": 5,
   "metadata": {},
   "outputs": [],
   "source": [
    "scaler = StandardScaler()\n",
    "train = scaler.fit_transform(train)"
   ]
  },
  {
   "cell_type": "code",
   "execution_count": 6,
   "metadata": {},
   "outputs": [
    {
     "name": "stdout",
     "output_type": "stream",
     "text": [
      "Explained Variance:  1.0000000000000002 %\n"
     ]
    }
   ],
   "source": [
    "pca = PCA()\n",
    "train_pca = pca.fit_transform(train)\n",
    "print(\"Explained Variance: \", np.sum(pca.explained_variance_ratio_), \"%\")"
   ]
  },
  {
   "cell_type": "code",
   "execution_count": 7,
   "metadata": {},
   "outputs": [],
   "source": [
    "testAllFeatures = []\n",
    "for m in methods:\n",
    "    with open(join(featuresPath, d+\"_\"+m+\"_test.pickle\"), 'rb') as handle:\n",
    "        test = pickle.load(handle)\n",
    "    testAllFeatures.append(test)\n",
    "test = np.concatenate(testAllFeatures, axis=1)"
   ]
  },
  {
   "cell_type": "code",
   "execution_count": 8,
   "metadata": {},
   "outputs": [],
   "source": [
    "test = scaler.transform(test)"
   ]
  },
  {
   "cell_type": "code",
   "execution_count": 9,
   "metadata": {},
   "outputs": [],
   "source": [
    "test_pca = pca.transform(test)"
   ]
  },
  {
   "cell_type": "code",
   "execution_count": 10,
   "metadata": {},
   "outputs": [],
   "source": [
    "with open(join(featuresPath, d+\"_pca_train.pickle\"), 'wb') as handle:\n",
    "    pickle.dump(train_pca, handle, protocol=pickle.HIGHEST_PROTOCOL)\n",
    "with open(join(featuresPath, d+\"_pca_test.pickle\"), 'wb') as handle:\n",
    "    pickle.dump(test_pca, handle, protocol=pickle.HIGHEST_PROTOCOL)"
   ]
  },
  {
   "cell_type": "code",
   "execution_count": 11,
   "metadata": {},
   "outputs": [
    {
     "data": {
      "text/plain": [
       "array([[  8.9976581 ,  -7.01585887,  -6.44277023, ...,  -0.        ,\n",
       "          0.        ,   0.        ],\n",
       "       [ -7.99562223,   3.00600335,   6.96263889, ...,   0.        ,\n",
       "         -0.        ,   0.        ],\n",
       "       [ -4.26076871,  13.39027559,  -1.77067349, ...,  -0.        ,\n",
       "          0.        ,   0.        ],\n",
       "       ...,\n",
       "       [ 23.94526405, -15.70110732,  15.64154255, ...,   0.        ,\n",
       "          0.        ,  -0.        ],\n",
       "       [  0.06114076,  10.37684989,   2.80492076, ...,   0.        ,\n",
       "          0.        ,  -0.        ],\n",
       "       [  1.52664341,  12.17134466,  -8.47874598, ...,   0.        ,\n",
       "         -0.        ,   0.        ]])"
      ]
     },
     "execution_count": 11,
     "metadata": {},
     "output_type": "execute_result"
    }
   ],
   "source": [
    "test_pca"
   ]
  },
  {
   "cell_type": "code",
   "execution_count": 12,
   "metadata": {},
   "outputs": [
    {
     "data": {
      "text/plain": [
       "array([[ 19.50971146, -16.96097413,  -3.7886438 , ...,  -0.        ,\n",
       "         -0.        ,  -0.        ],\n",
       "       [-16.79712889,  -0.19383993,   7.58001327, ...,  -0.        ,\n",
       "          0.        ,  -0.        ],\n",
       "       [ 11.3494916 ,  27.18957229,   4.79876087, ...,   0.        ,\n",
       "          0.        ,   0.        ],\n",
       "       ...,\n",
       "       [ 12.339188  ,  27.40388581,   9.05966476, ...,  -0.        ,\n",
       "          0.        ,  -0.        ],\n",
       "       [-16.18155929,  -9.75851099,   4.92711548, ...,   0.        ,\n",
       "         -0.        ,   0.        ],\n",
       "       [-15.98505512,  -1.87340264,   2.88590794, ...,   0.        ,\n",
       "          0.        ,  -0.        ]])"
      ]
     },
     "execution_count": 12,
     "metadata": {},
     "output_type": "execute_result"
    }
   ],
   "source": [
    "train_pca"
   ]
  },
  {
   "cell_type": "code",
   "execution_count": null,
   "metadata": {},
   "outputs": [],
   "source": []
  },
  {
   "cell_type": "code",
   "execution_count": null,
   "metadata": {},
   "outputs": [],
   "source": []
  },
  {
   "cell_type": "code",
   "execution_count": null,
   "metadata": {},
   "outputs": [],
   "source": []
  }
 ],
 "metadata": {
  "kernelspec": {
   "display_name": "Python 3",
   "language": "python",
   "name": "python3"
  },
  "language_info": {
   "codemirror_mode": {
    "name": "ipython",
    "version": 3
   },
   "file_extension": ".py",
   "mimetype": "text/x-python",
   "name": "python",
   "nbconvert_exporter": "python",
   "pygments_lexer": "ipython3",
   "version": "3.7.3"
  }
 },
 "nbformat": 4,
 "nbformat_minor": 2
}
